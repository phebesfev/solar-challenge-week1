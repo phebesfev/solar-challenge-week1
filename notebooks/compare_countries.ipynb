{
 "cells": [
  {
   "cell_type": "markdown",
   "id": "ed522a57",
   "metadata": {},
   "source": [
    "##Cleaning benin\n"
   ]
  },
  {
   "cell_type": "code",
   "execution_count": null,
   "id": "7be64b1c",
   "metadata": {},
   "outputs": [
    {
     "name": "stderr",
     "output_type": "stream",
     "text": [
      "C:\\Users\\LENOVO\\AppData\\Local\\Temp\\ipykernel_11904\\2116831243.py:6: DtypeWarning: Columns (1,2,3,4,5,6,7,8,9,10,11,12,13,14,15,16,17) have mixed types. Specify dtype option on import or set low_memory=False.\n",
      "  df = pd.read_csv('../data/benin_raw.csv', encoding='ISO-8859-1')\n"
     ]
    }
   ],
   "source": [
    "import pandas as pd\n",
    "import numpy as np\n",
    "from scipy.stats import zscore\n",
    "\n",
    "# Load the dataset (adjust path if needed)\n",
    "df = pd.read_csv('../data/benin_raw.csv', encoding='ISO-8859-1')\n",
    "df.head()\n",
    "\n"
   ]
  },
  {
   "cell_type": "code",
   "execution_count": null,
   "id": "55093f3e",
   "metadata": {},
   "outputs": [],
   "source": [
    "# List of key columns to focus on\n",
    "key_columns = ['GHI', 'DNI', 'DHI', 'ModA', 'ModB', 'WS', 'WSgust']\n",
    "\n",
    "# Convert relevant columns to numeric (errors='coerce' turns invalid values to NaN)\n",
    "df[key_columns] = df[key_columns].apply(pd.to_numeric, errors='coerce')\n",
    "\n",
    "# Drop rows with negative radiation values (GHI, DNI, DHI must be ≥ 0)\n",
    "for col in ['GHI', 'DNI', 'DHI']:\n",
    "    df = df[df[col] >= 0]\n",
    "\n",
    "\n",
    "# Compute Z-scores for key columns\n",
    "z_scores = df[key_columns].apply(zscore)\n",
    "\n",
    "# Drop rows with any Z-score > 3 or < -3\n",
    "df = df[(np.abs(z_scores) <= 3).all(axis=1)]\n",
    "\n",
    "\n",
    "# Fill any remaining NaNs with column medians\n",
    "df[key_columns] = df[key_columns].fillna(df[key_columns].median())\n",
    "\n",
    "\n",
    "# Save to CSV\n",
    "df.to_csv('../data/benin_cleaned.csv', index=False)\n",
    "\n",
    "# Preview cleaned dataset\n",
    "print(df.head())\n"
   ]
  },
  {
   "cell_type": "markdown",
   "id": "24fa349e",
   "metadata": {},
   "source": [
    "##Cleaning sierraleone"
   ]
  },
  {
   "cell_type": "code",
   "execution_count": null,
   "id": "f95e592a",
   "metadata": {},
   "outputs": [
    {
     "name": "stderr",
     "output_type": "stream",
     "text": [
      "C:\\Users\\LENOVO\\AppData\\Local\\Temp\\ipykernel_11904\\1148745338.py:2: DtypeWarning: Columns (1,2,3,4,5,6,7,8,9,10,11,12,13,14,15,16,17) have mixed types. Specify dtype option on import or set low_memory=False.\n",
      "  df = pd.read_csv('../data/sierraleone_raw.csv' ,encoding='ISO-8859-1')\n"
     ]
    }
   ],
   "source": [
    "# Load data (assuming CSV format)\n",
    "df = pd.read_csv('../data/sierraleone_raw.csv' ,encoding='ISO-8859-1')\n",
    "df.head()\n"
   ]
  },
  {
   "cell_type": "code",
   "execution_count": null,
   "id": "3bc1bfe2",
   "metadata": {},
   "outputs": [],
   "source": [
    "# 1. Convert key columns to numeric, coercing errors to NaN\n",
    "key_cols = ['GHI', 'DNI', 'DHI', 'ModA', 'ModB', 'WS', 'WSgust']\n",
    "df[key_cols] = df[key_cols].apply(pd.to_numeric, errors='coerce')\n",
    "\n",
    "# 2. Remove rows with negative radiation values (GHI, DNI, DHI must be >= 0)\n",
    "for col in ['GHI', 'DNI', 'DHI']:\n",
    "    df = df[df[col] >= 0]\n",
    "\n",
    "# 3. Calculate Z-scores and flag outliers (|Z| > 3)\n",
    "z_scores = df[key_cols].apply(zscore, nan_policy='omit')\n",
    "df = df[(np.abs(z_scores) <= 3).all(axis=1)]\n",
    "\n",
    "# 4. Impute missing values with median of each column\n",
    "df[key_cols] = df[key_cols].fillna(df[key_cols].median())\n",
    "\n",
    "df.to_csv('../data/sierraleone_cleaned.csv', index=False)\n",
    "\n",
    "# Preview cleaned data\n",
    "print(df.head())"
   ]
  },
  {
   "cell_type": "markdown",
   "id": "66e272f9",
   "metadata": {},
   "source": [
    "##Cleaning Togo"
   ]
  },
  {
   "cell_type": "code",
   "execution_count": null,
   "id": "b8e7ba1e",
   "metadata": {},
   "outputs": [],
   "source": [
    "# Load data (assuming CSV format)\n",
    "df = pd.read_csv('../data/togo_raw.csv' ,encoding='ISO-8859-1')\n",
    "df.head()\n"
   ]
  },
  {
   "cell_type": "code",
   "execution_count": null,
   "id": "b3b6b59c",
   "metadata": {},
   "outputs": [],
   "source": [
    "# 1. Convert key columns to numeric, coercing errors to NaN\n",
    "key_cols = ['GHI', 'DNI', 'DHI', 'ModA', 'ModB', 'WS', 'WSgust']\n",
    "df[key_cols] = df[key_cols].apply(pd.to_numeric, errors='coerce')\n",
    "\n",
    "# 2. Remove rows with negative radiation values (GHI, DNI, DHI must be >= 0)\n",
    "for col in ['GHI', 'DNI', 'DHI']:\n",
    "    df = df[df[col] >= 0]\n",
    "\n",
    "# 3. Calculate Z-scores and flag outliers (|Z| > 3)\n",
    "z_scores = df[key_cols].apply(zscore, nan_policy='omit')\n",
    "df = df[(np.abs(z_scores) <= 3).all(axis=1)]\n",
    "\n",
    "# 4. Impute missing values with median of each column\n",
    "df[key_cols] = df[key_cols].fillna(df[key_cols].median())\n",
    "\n",
    "df.to_csv('../data/togo_cleaned.csv', index=False)\n",
    "\n",
    "# Preview cleaned data\n",
    "print(df.head())"
   ]
  },
  {
   "cell_type": "markdown",
   "id": "d3ad0920",
   "metadata": {},
   "source": [
    "##METRIC COMPARISIOM"
   ]
  },
  {
   "cell_type": "markdown",
   "id": "46122cb7",
   "metadata": {},
   "source": [
    "###BOX PLOTS"
   ]
  },
  {
   "cell_type": "code",
   "execution_count": 19,
   "id": "bf553c0c",
   "metadata": {},
   "outputs": [
    {
     "name": "stderr",
     "output_type": "stream",
     "text": [
      "C:\\Users\\LENOVO\\AppData\\Local\\Temp\\ipykernel_11904\\4173972236.py:27: FutureWarning: \n",
      "\n",
      "Passing `palette` without assigning `hue` is deprecated and will be removed in v0.14.0. Assign the `x` variable to `hue` and set `legend=False` for the same effect.\n",
      "\n",
      "  sns.boxplot(x='Country', y=metric, data=df_all, ax=axes[i], palette='Set2')\n",
      "C:\\Users\\LENOVO\\AppData\\Local\\Temp\\ipykernel_11904\\4173972236.py:27: FutureWarning: \n",
      "\n",
      "Passing `palette` without assigning `hue` is deprecated and will be removed in v0.14.0. Assign the `x` variable to `hue` and set `legend=False` for the same effect.\n",
      "\n",
      "  sns.boxplot(x='Country', y=metric, data=df_all, ax=axes[i], palette='Set2')\n",
      "C:\\Users\\LENOVO\\AppData\\Local\\Temp\\ipykernel_11904\\4173972236.py:27: FutureWarning: \n",
      "\n",
      "Passing `palette` without assigning `hue` is deprecated and will be removed in v0.14.0. Assign the `x` variable to `hue` and set `legend=False` for the same effect.\n",
      "\n",
      "  sns.boxplot(x='Country', y=metric, data=df_all, ax=axes[i], palette='Set2')\n"
     ]
    },
    {
     "data": {
      "image/png": "[encoded data removed]",
      "text/plain": [
       "<Figure size 1800x600 with 3 Axes>"
      ]
     },
     "metadata": {},
     "output_type": "display_data"
    }
   ],
   "source": [
    "import matplotlib.pyplot as plt\n",
    "import seaborn as sns\n",
    "\n",
    "# Load cleaned datasets\n",
    "benin = pd.read_csv('../data/benin_cleaned.csv')\n",
    "togo = pd.read_csv('../data/togo_cleaned.csv')\n",
    "sierraleone = pd.read_csv('../data/sierraleone_cleaned.csv')\n",
    "\n",
    "# Add country column to each\n",
    "benin['Country'] = 'Benin'\n",
    "togo['Country'] = 'Togo'\n",
    "sierraleone['Country'] = 'Sierra Leone'\n",
    "\n",
    "# Combine all dataframes\n",
    "df_all = pd.concat([benin, togo, sierraleone], ignore_index=True)\n",
    "\n",
    "# Set plot style\n",
    "sns.set(style=\"whitegrid\")\n",
    "\n",
    "# Define variables to plot\n",
    "metrics = ['GHI', 'DNI', 'DHI']\n",
    "\n",
    "# Create boxplots, one for each metric\n",
    "fig, axes = plt.subplots(1, 3, figsize=(18, 6), sharey=False)\n",
    "\n",
    "for i, metric in enumerate(metrics):\n",
    "    sns.boxplot(x='Country', y=metric, data=df_all, ax=axes[i], palette='Set2')\n",
    "    axes[i].set_title(f'Boxplot of {metric} by Country')\n",
    "    axes[i].set_xlabel('')\n",
    "    axes[i].set_ylabel(f'{metric} (W/m²)')\n",
    "\n",
    "plt.tight_layout()\n",
    "plt.show()\n"
   ]
  },
  {
   "cell_type": "markdown",
   "id": "4a3ea215",
   "metadata": {},
   "source": [
    "###SUMMARY TABLES"
   ]
  },
  {
   "cell_type": "code",
   "execution_count": 20,
   "id": "6b44dbfd",
   "metadata": {},
   "outputs": [
    {
     "name": "stdout",
     "output_type": "stream",
     "text": [
      "                GHI_mean  GHI_median     GHI_std    DNI_mean  DNI_median  \\\n",
      "Country                                                                    \n",
      "Benin         513.435019       520.0  304.512467  356.796444       353.0   \n",
      "Sierra Leone  443.850912       404.3  293.129929  255.898440       165.2   \n",
      "Togo          454.065842       430.2  318.599988  296.301174       234.2   \n",
      "\n",
      "                 DNI_std    DHI_mean  DHI_median     DHI_std  \n",
      "Country                                                       \n",
      "Benin         279.577669  247.247564       227.8  142.881147  \n",
      "Sierra Leone  263.108505  250.641625       242.1  140.196062  \n",
      "Togo          283.077747  228.289570       211.8  149.590595  \n"
     ]
    }
   ],
   "source": [
    "# Combine datasets\n",
    "df_all = pd.concat([benin, togo, sierraleone], ignore_index=True)\n",
    "\n",
    "# Select relevant columns\n",
    "metrics = ['GHI', 'DNI', 'DHI']\n",
    "\n",
    "# Group by country and calculate mean, median, std\n",
    "summary = df_all.groupby('Country')[metrics].agg(['mean', 'median', 'std'])\n",
    "\n",
    "# Flatten multi-level columns\n",
    "summary.columns = ['_'.join(col).strip() for col in summary.columns.values]\n",
    "\n",
    "print(summary)\n"
   ]
  },
  {
   "cell_type": "markdown",
   "id": "239db443",
   "metadata": {},
   "source": [
    "##Statistical Testing"
   ]
  },
  {
   "cell_type": "code",
   "execution_count": 21,
   "id": "605970f7",
   "metadata": {},
   "outputs": [
    {
     "name": "stdout",
     "output_type": "stream",
     "text": [
      "One-way ANOVA result: F = 3699.896, p = 0.0000\n",
      "Kruskal–Wallis test result: H = 7766.299, p = 0.0000\n"
     ]
    }
   ],
   "source": [
    "from scipy.stats import f_oneway,kruskal\n",
    "\n",
    "# Extract GHI values\n",
    "ghi_benin = benin['GHI']\n",
    "ghi_togo = togo['GHI']\n",
    "ghi_sierraleone = sierraleone['GHI']\n",
    "\n",
    "# Perform one-way ANOVA\n",
    "f_stat, p_value = f_oneway(ghi_benin, ghi_togo, ghi_sierraleone)\n",
    "\n",
    "print(f\"One-way ANOVA result: F = {f_stat:.3f}, p = {p_value:.4f}\")\n",
    "\n",
    "\n",
    "\n",
    "h_stat, p_value_kruskal = kruskal(ghi_benin, ghi_togo, ghi_sierraleone)\n",
    "\n",
    "print(f\"Kruskal–Wallis test result: H = {h_stat:.3f}, p = {p_value_kruskal:.4f}\")"
   ]
  },
  {
   "cell_type": "markdown",
   "id": "6493fb03",
   "metadata": {},
   "source": [
    "- **Benin** shows the highest **median GHI**, indicating strong and consistent solar radiation levels.\n",
    "- **Sierra Leone** has the **lowest median GHI** and also exhibits **less variability**, suggesting lower solar potential.\n",
    "- **Togo** displays the **greatest variability in GHI**, which might affect the reliability of solar energy production.\n"
   ]
  },
  {
   "cell_type": "markdown",
   "id": "1f4fabb0",
   "metadata": {},
   "source": [
    "##VISUAL SUMMARY"
   ]
  },
  {
   "cell_type": "code",
   "execution_count": 22,
   "id": "de71b942",
   "metadata": {},
   "outputs": [
    {
     "data": {
      "image/png": "[encoded data removed]",
      "text/plain": [
       "<Figure size 600x400 with 1 Axes>"
      ]
     },
     "metadata": {},
     "output_type": "display_data"
    }
   ],
   "source": [
    "avg_ghi = {\n",
    "    'Benin': benin['GHI'].mean(),\n",
    "    'Togo': togo['GHI'].mean(),\n",
    "    'Sierra Leone': sierraleone['GHI'].mean()\n",
    "}\n",
    "\n",
    "# Create bar chart\n",
    "plt.figure(figsize=(6, 4))\n",
    "plt.bar(avg_ghi.keys(), avg_ghi.values(), color=['orange', 'green', 'blue'])\n",
    "plt.title('Average GHI by Country')\n",
    "plt.ylabel('Average GHI (W/m²)')\n",
    "plt.xlabel('Country')\n",
    "plt.grid(axis='y', linestyle='--', alpha=0.7)\n",
    "plt.tight_layout()\n",
    "plt.show()"
   ]
  }
 ],
 "metadata": {
  "kernelspec": {
   "display_name": "Python 3",
   "language": "python",
   "name": "python3"
  },
  "language_info": {
   "codemirror_mode": {
    "name": "ipython",
    "version": 3
   },
   "file_extension": ".py",
   "mimetype": "text/x-python",
   "name": "python",
   "nbconvert_exporter": "python",
   "pygments_lexer": "ipython3",
   "version": "3.13.2"
  }
 },
 "nbformat": 4,
 "nbformat_minor": 5
}
