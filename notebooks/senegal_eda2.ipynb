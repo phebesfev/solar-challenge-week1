{
 "cells": [
  {
   "cell_type": "code",
   "execution_count": null,
   "id": "248db9d7",
   "metadata": {},
   "outputs": [],
   "source": [
    "import pandas as pd\n",
    "\n",
    "url = \"https://energydata.info/dataset/27754e48-beb3-486b-8dbb-b7b85ef74b1a/resource/3e947892-8412-4678-8a9d-40e3228edb78/download/solar-measurementssenegal-fatickifcqc.csv\"\n",
    "\n",
    "df = pd.read_csv(url, delimiter=\";\")\n",
    "\n",
    "# Preview the data\n",
    "df.head()"
   ]
  }
 ],
 "metadata": {
  "kernelspec": {
   "display_name": "Python 3",
   "language": "python",
   "name": "python3"
  },
  "language_info": {
   "codemirror_mode": {
    "name": "ipython",
    "version": 3
   },
   "file_extension": ".py",
   "mimetype": "text/x-python",
   "name": "python",
   "nbconvert_exporter": "python",
   "pygments_lexer": "ipython3",
   "version": "3.13.2"
  }
 },
 "nbformat": 4,
 "nbformat_minor": 5
}
